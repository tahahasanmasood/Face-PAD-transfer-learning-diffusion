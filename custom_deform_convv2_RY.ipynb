{
 "cells": [
  {
   "cell_type": "code",
   "execution_count": 2,
   "metadata": {},
   "outputs": [],
   "source": [
    "import torch\n",
    "import torch.nn as nn\n",
    "from torch.utils.data import Dataset, DataLoader, ConcatDataset\n",
    "from torchvision import transforms, models\n",
    "import torch.optim as optim\n",
    "import os\n",
    "import random\n",
    "import cv2\n",
    "import numpy as np"
   ]
  },
  {
   "cell_type": "code",
   "execution_count": 3,
   "metadata": {},
   "outputs": [],
   "source": [
    "class_label_real = 0\n",
    "class_label_attack = 1"
   ]
  },
  {
   "cell_type": "code",
   "execution_count": 4,
   "metadata": {},
   "outputs": [],
   "source": [
    "data_path_train_real = '/home/taha/FASdatasets/Sohail/Rose_Youtu/train/real'\n",
    "data_path_train_attack = '/home/taha/FASdatasets/Sohail/Rose_Youtu/train/attack'\n",
    "\n",
    "data_path_devel_real = '/home/taha/FASdatasets/Sohail/Rose_Youtu/devel/real'\n",
    "data_path_devel_attack = '/home/taha/FASdatasets/Sohail/Rose_Youtu/devel/attack'\n",
    "\n",
    "data_path_test_real = '/home/taha/FASdatasets/Sohail/Rose_Youtu/test/real'\n",
    "data_path_test_attack = '/home/taha/FASdatasets/Sohail/Rose_Youtu/test/attack'"
   ]
  },
  {
   "cell_type": "code",
   "execution_count": 5,
   "metadata": {},
   "outputs": [],
   "source": [
    "def load_samples(path, class_label, transform): #Select N frames returned from read_all_frames and assign labels to all samples of same class\n",
    "        frames = read_all_frames(path)\n",
    "        total_frames = list(range(0, frames.shape[0], 1))\n",
    "        selected_samples = random.sample(total_frames, 1)\n",
    "        samples =[]\n",
    "        # Assign the same class label to all samples\n",
    "        label = class_label\n",
    "        samples =(transform(frames[selected_samples].squeeze()), label)     \n",
    "        return samples\n",
    "\n",
    "def read_all_frames(video_path): # _read_all_frames reads all frames from a  particular video, resizes them to 64x64, and converts them to PyTorch tensors.\n",
    "    frame_list = []\n",
    "    video = cv2.VideoCapture(video_path)\n",
    "    success = True\n",
    "    while success:\n",
    "        success, frame = video.read()\n",
    "        if success:\n",
    "            frame = cv2.resize(frame, (224, 224), interpolation=cv2.INTER_AREA)\n",
    "            frame_list.append(frame)\n",
    "    frame_list = np.array(frame_list)\n",
    "    return frame_list\n",
    "\n",
    "class VideoDataset(Dataset):\n",
    "    def __init__(self, data_path, class_label):\n",
    "        self.data_path = data_path #path for directory containing video files\n",
    "        self.video_files = [file for file in os.listdir(data_path) if file.endswith('.mp4')] #list of video files in the specified directory\n",
    "        self.class_label = class_label #manually assign class_label for your desired class while loading\n",
    "        self.data_length = len(self.video_files) #*num_frames\n",
    "        self.transform = transforms.Compose([transforms.ToTensor()])\n",
    "\n",
    "    def __len__(self): #Returns the total number of samples in the dataset\n",
    "        return self.data_length\n",
    "        # return len(self.samples)\n",
    "\n",
    "    def __getitem__(self, idx):\n",
    "        file = self.video_files[idx]\n",
    "        path = os.path.join(self.data_path, file)\n",
    "        frames= load_samples(path, self.class_label, self.transform)\n",
    "\n",
    "        return frames"
   ]
  },
  {
   "cell_type": "code",
   "execution_count": 6,
   "metadata": {},
   "outputs": [],
   "source": [
    "# Create datasets and data loaders\n",
    "train_dataset_real = VideoDataset(data_path_train_real, class_label_real)\n",
    "train_dataset_attack = VideoDataset(data_path_train_attack, class_label_attack)\n",
    "\n",
    "val_dataset_real = VideoDataset(data_path_devel_real, class_label_real)\n",
    "val_dataset_attack = VideoDataset(data_path_devel_attack, class_label_attack)\n",
    "\n",
    "test_dataset_real = VideoDataset(data_path_test_real, class_label_real)\n",
    "test_dataset_attack = VideoDataset(data_path_test_attack, class_label_attack)"
   ]
  },
  {
   "cell_type": "code",
   "execution_count": 7,
   "metadata": {},
   "outputs": [],
   "source": [
    "train_loader_real = DataLoader(train_dataset_real, batch_size=1, shuffle=True)\n",
    "train_loader_attack = DataLoader(train_dataset_attack, batch_size=1, shuffle=True)\n",
    "\n",
    "val_loader_real = DataLoader(val_dataset_real, batch_size=1, shuffle=False)\n",
    "val_loader_attack = DataLoader(val_dataset_attack, batch_size=1, shuffle=False)\n",
    "\n",
    "test_loader_real = DataLoader(test_dataset_real, batch_size=1, shuffle=False)\n",
    "test_loader_attack = DataLoader(test_dataset_attack, batch_size=1, shuffle=False)"
   ]
  },
  {
   "cell_type": "code",
   "execution_count": 8,
   "metadata": {},
   "outputs": [],
   "source": [
    "# Concatenate datasets\n",
    "concatenated_train_dataset = ConcatDataset([train_dataset_real, train_dataset_attack])\n",
    "concatenated_val_dataset = ConcatDataset([val_dataset_real, val_dataset_attack])\n",
    "concatenated_test_dataset = ConcatDataset([test_dataset_real, test_dataset_attack])\n",
    "\n",
    "\n",
    "# Create a DataLoader for the concatenated dataset\n",
    "concatenated_train_loader = DataLoader(concatenated_train_dataset, batch_size=32, shuffle=True, pin_memory=True, num_workers=8)\n",
    "concatenated_val_loader = DataLoader(concatenated_val_dataset, batch_size=32, shuffle=False, pin_memory=True, num_workers=8)\n",
    "concatenated_test_loader = DataLoader(concatenated_test_dataset, batch_size=32, shuffle=False, pin_memory=True, num_workers=8)"
   ]
  },
  {
   "cell_type": "code",
   "execution_count": 9,
   "metadata": {},
   "outputs": [
    {
     "name": "stdout",
     "output_type": "stream",
     "text": [
      "Training set size: 1397\n",
      "Validation set size: 350\n",
      "Test set size: 1748\n"
     ]
    }
   ],
   "source": [
    "# Print dataset sizes\n",
    "print(f\"Training set size: {len(concatenated_train_dataset)}\")\n",
    "print(f\"Validation set size: {len(concatenated_val_dataset)}\")\n",
    "print(f\"Test set size: {len(concatenated_test_dataset)}\")"
   ]
  },
  {
   "cell_type": "code",
   "execution_count": 10,
   "metadata": {},
   "outputs": [],
   "source": [
    "import torchvision.ops\n",
    "\n",
    "class DeformableConv2d(nn.Module):\n",
    "    def __init__(self,\n",
    "                 in_channels,\n",
    "                 out_channels,\n",
    "                 kernel_size=3,\n",
    "                 stride=1,\n",
    "                 padding=1,\n",
    "                 bias=False):\n",
    "\n",
    "        super(DeformableConv2d, self).__init__()\n",
    "\n",
    "        self.padding = padding\n",
    "        \n",
    "        self.offset_conv = nn.Conv2d(in_channels, \n",
    "                                     2 * kernel_size * kernel_size,\n",
    "                                     kernel_size=kernel_size, \n",
    "                                     stride=stride,\n",
    "                                     padding=self.padding, \n",
    "                                     bias=True)\n",
    "\n",
    "        nn.init.constant_(self.offset_conv.weight, 0.)\n",
    "        nn.init.constant_(self.offset_conv.bias, 0.)\n",
    "        \n",
    "        self.modulator_conv = nn.Conv2d(in_channels, \n",
    "                                     1 * kernel_size * kernel_size,\n",
    "                                     kernel_size=kernel_size, \n",
    "                                     stride=stride,\n",
    "                                     padding=self.padding, \n",
    "                                     bias=True)\n",
    "\n",
    "        nn.init.constant_(self.modulator_conv.weight, 0.)\n",
    "        nn.init.constant_(self.modulator_conv.bias, 0.)\n",
    "        \n",
    "        self.regular_conv = nn.Conv2d(in_channels=in_channels,\n",
    "                                      out_channels=out_channels,\n",
    "                                      kernel_size=kernel_size,\n",
    "                                      stride=stride,\n",
    "                                      padding=self.padding,\n",
    "                                      bias=bias)\n",
    "    \n",
    "    def forward(self, x):\n",
    "        h, w = x.shape[2:]\n",
    "        max_offset = max(h, w)/4.\n",
    "\n",
    "        offset = self.offset_conv(x).clamp(-max_offset, max_offset)\n",
    "        modulator = 2. * torch.sigmoid(self.modulator_conv(x))\n",
    "        \n",
    "        x = torchvision.ops.deform_conv2d(input=x, \n",
    "                                          offset=offset, \n",
    "                                          weight=self.regular_conv.weight, \n",
    "                                          bias=self.regular_conv.bias, \n",
    "                                          padding=self.padding,\n",
    "                                          mask=modulator\n",
    "                                          )\n",
    "        return x"
   ]
  },
  {
   "cell_type": "markdown",
   "metadata": {},
   "source": [
    "https://machinelearningmastery.com/building-a-convolutional-neural-network-in-pytorch/"
   ]
  },
  {
   "cell_type": "code",
   "execution_count": 11,
   "metadata": {},
   "outputs": [],
   "source": [
    "# frame size 224, 224\n",
    "\n",
    "class Custom_CNN_Model(nn.Module):\n",
    "    def __init__(self, \n",
    "                 deformable=False):\n",
    "        super(Custom_CNN_Model, self).__init__()\n",
    "        self.conv1 = nn.Conv2d(3, 32, kernel_size=3, stride=1, padding=1)\n",
    "        self.act1 = nn.ReLU()\n",
    "        self.drop1 = nn.Dropout(0.3)\n",
    "        self.conv2 = nn.Conv2d(32, 32, kernel_size=3, stride=1, padding=1)\n",
    "        self.act2 = nn.ReLU()\n",
    "        self.conv3 = nn.Conv2d(32, 32, kernel_size=3, stride=1, padding=1)\n",
    "        self.act3 = nn.ReLU()\n",
    "        \n",
    "        conv = nn.Conv2d if deformable==False else DeformableConv2d\n",
    "        \n",
    "        self.conv4 = conv(32, 32, kernel_size=3, stride=1, padding=1)\n",
    "        self.act4 = nn.ReLU()\n",
    "        self.conv5 = conv(32, 32, kernel_size=3, stride=1, padding=1)\n",
    "        self.act5 = nn.ReLU()\n",
    "        self.pool5 = nn.MaxPool2d(kernel_size=2)\n",
    " \n",
    "        self.flat = nn.Flatten()\n",
    " \n",
    "        self.fc6 = nn.Linear(401408, 512)\n",
    "        self.act6 = nn.ReLU()\n",
    "        self.drop2 = nn.Dropout(0.5)\n",
    " \n",
    "        self.fc7 = nn.Linear(in_features=512, out_features=2)\n",
    " \n",
    "    def forward(self, x):\n",
    "        # input 3x224x224, output 32x224x224\n",
    "        x = self.act1(self.conv1(x))\n",
    "        x = self.drop1(x)\n",
    "        # input 32x224x224, output 32x224x224\n",
    "        x = self.act2(self.conv2(x))\n",
    "        # input 32x224x224, output 32x224x224\n",
    "        x = self.act3(self.conv3(x))\n",
    "        # input 32x224x224, output 32x224x224\n",
    "        x = self.act4(self.conv4(x))\n",
    "        # input 32x224x224, output 32x224x224\n",
    "        x = self.act5(self.conv5(x))\n",
    "        # input 32x224x224, output 32x112x112\n",
    "        x = self.pool5(x)\n",
    "        # input 32x112x112, output 401408 (32*112*112 = 401,408)\n",
    "        x = self.flat(x)\n",
    "        # input 401408, output 512\n",
    "        x = self.act6(self.fc6(x))\n",
    "        x = self.drop2(x)\n",
    "        # input 512, output 2\n",
    "        x = self.fc7(x)\n",
    "        return x\n"
   ]
  },
  {
   "cell_type": "code",
   "execution_count": 12,
   "metadata": {},
   "outputs": [
    {
     "name": "stdout",
     "output_type": "stream",
     "text": [
      "Custom_CNN_Model(\n",
      "  (conv1): Conv2d(3, 32, kernel_size=(3, 3), stride=(1, 1), padding=(1, 1))\n",
      "  (act1): ReLU()\n",
      "  (drop1): Dropout(p=0.3, inplace=False)\n",
      "  (conv2): Conv2d(32, 32, kernel_size=(3, 3), stride=(1, 1), padding=(1, 1))\n",
      "  (act2): ReLU()\n",
      "  (conv3): Conv2d(32, 32, kernel_size=(3, 3), stride=(1, 1), padding=(1, 1))\n",
      "  (act3): ReLU()\n",
      "  (conv4): DeformableConv2d(\n",
      "    (offset_conv): Conv2d(32, 18, kernel_size=(3, 3), stride=(1, 1), padding=(1, 1))\n",
      "    (modulator_conv): Conv2d(32, 9, kernel_size=(3, 3), stride=(1, 1), padding=(1, 1))\n",
      "    (regular_conv): Conv2d(32, 32, kernel_size=(3, 3), stride=(1, 1), padding=(1, 1), bias=False)\n",
      "  )\n",
      "  (act4): ReLU()\n",
      "  (conv5): DeformableConv2d(\n",
      "    (offset_conv): Conv2d(32, 18, kernel_size=(3, 3), stride=(1, 1), padding=(1, 1))\n",
      "    (modulator_conv): Conv2d(32, 9, kernel_size=(3, 3), stride=(1, 1), padding=(1, 1))\n",
      "    (regular_conv): Conv2d(32, 32, kernel_size=(3, 3), stride=(1, 1), padding=(1, 1), bias=False)\n",
      "  )\n",
      "  (act5): ReLU()\n",
      "  (pool5): MaxPool2d(kernel_size=2, stride=2, padding=0, dilation=1, ceil_mode=False)\n",
      "  (flat): Flatten(start_dim=1, end_dim=-1)\n",
      "  (fc6): Linear(in_features=401408, out_features=512, bias=True)\n",
      "  (act6): ReLU()\n",
      "  (drop2): Dropout(p=0.5, inplace=False)\n",
      "  (fc7): Linear(in_features=512, out_features=2, bias=True)\n",
      ")\n"
     ]
    }
   ],
   "source": [
    "model = Custom_CNN_Model(deformable=True)\n",
    "print(model)"
   ]
  },
  {
   "cell_type": "code",
   "execution_count": 13,
   "metadata": {},
   "outputs": [],
   "source": [
    "criterion = nn.CrossEntropyLoss()\n",
    "optimizer = optim.Adam(model.parameters(), lr=0.001)"
   ]
  },
  {
   "cell_type": "code",
   "execution_count": 14,
   "metadata": {},
   "outputs": [
    {
     "name": "stdout",
     "output_type": "stream",
     "text": [
      "Epoch 1/50, Training Loss: 0.6511, Training Accuracy: 74.87%, Validation Loss:  0.5467, Best Loss:  0.5467, Validation Accuracy: 75.43%\n",
      "Epoch 2/50, Training Loss: 0.3981, Training Accuracy: 83.54%, Validation Loss:  0.4945, Best Loss:  0.4945, Validation Accuracy: 80.00%\n",
      "Epoch 3/50, Training Loss: 0.3285, Training Accuracy: 86.11%, Validation Loss:  0.5208, Best Loss:  0.4945, Validation Accuracy: 81.14%\n",
      "Epoch 4/50, Training Loss: 0.3174, Training Accuracy: 86.90%, Validation Loss:  0.4257, Best Loss:  0.4257, Validation Accuracy: 82.00%\n",
      "Epoch 5/50, Training Loss: 0.2838, Training Accuracy: 89.84%, Validation Loss:  0.3846, Best Loss:  0.3846, Validation Accuracy: 82.86%\n",
      "Epoch 6/50, Training Loss: 0.2664, Training Accuracy: 90.26%, Validation Loss:  0.3688, Best Loss:  0.3688, Validation Accuracy: 82.86%\n",
      "Epoch 7/50, Training Loss: 0.2125, Training Accuracy: 92.27%, Validation Loss:  0.4310, Best Loss:  0.3688, Validation Accuracy: 84.57%\n",
      "Epoch 8/50, Training Loss: 0.1759, Training Accuracy: 92.98%, Validation Loss:  0.3138, Best Loss:  0.3138, Validation Accuracy: 88.00%\n",
      "Epoch 9/50, Training Loss: 0.1645, Training Accuracy: 94.63%, Validation Loss:  0.3018, Best Loss:  0.3018, Validation Accuracy: 87.14%\n",
      "Epoch 10/50, Training Loss: 0.1475, Training Accuracy: 94.49%, Validation Loss:  0.2540, Best Loss:  0.2540, Validation Accuracy: 90.00%\n",
      "Epoch 11/50, Training Loss: 0.1438, Training Accuracy: 94.35%, Validation Loss:  0.3837, Best Loss:  0.2540, Validation Accuracy: 86.00%\n",
      "Epoch 12/50, Training Loss: 0.1282, Training Accuracy: 94.99%, Validation Loss:  0.2414, Best Loss:  0.2414, Validation Accuracy: 92.00%\n",
      "Epoch 13/50, Training Loss: 0.0860, Training Accuracy: 96.64%, Validation Loss:  0.4577, Best Loss:  0.2414, Validation Accuracy: 85.43%\n",
      "Epoch 14/50, Training Loss: 0.1174, Training Accuracy: 95.13%, Validation Loss:  0.3070, Best Loss:  0.2414, Validation Accuracy: 90.29%\n",
      "Epoch 15/50, Training Loss: 0.0826, Training Accuracy: 96.71%, Validation Loss:  0.3206, Best Loss:  0.2414, Validation Accuracy: 91.43%\n",
      "Epoch 16/50, Training Loss: 0.0844, Training Accuracy: 96.42%, Validation Loss:  0.2458, Best Loss:  0.2414, Validation Accuracy: 89.71%\n",
      "Early stopping at epoch 16\n"
     ]
    }
   ],
   "source": [
    "#Training loop\n",
    "epochs = 50\n",
    "\n",
    "device = torch.device('cuda:1' if torch.cuda.is_available() else 'cpu')\n",
    "model.to(device)\n",
    "\n",
    "train_losses = []\n",
    "val_losses = []\n",
    "\n",
    "train_accuracies = []\n",
    "val_accuracies = []\n",
    "\n",
    "\n",
    "# Set up early stopping parameters\n",
    "patience = 5  # Number of epochs with no improvement after which training will be stopped\n",
    "best_loss = float('inf') #set to positive infinity to ensure that the first validation loss encountered will always be considered an improvement\n",
    "counter = 0  # Counter to keep track of consecutive epochs with no improvement\n",
    "\n",
    "#Training Loop\n",
    "for epoch in range(epochs):\n",
    "    model.train()  # Set the model to training mode\n",
    "    running_loss = 0.0\n",
    "    train_correct_predictions = 0\n",
    "    total_train_samples = 0\n",
    "\n",
    "    for train_images, train_labels in concatenated_train_loader:\n",
    "        train_images, train_labels = train_images.to(device), train_labels.to(device)\n",
    "        # Clear the gradients\n",
    "        optimizer.zero_grad()\n",
    "        # Forward Pass\n",
    "        train_outputs = model(train_images)\n",
    "        # Find the Loss\n",
    "        train_loss = criterion(train_outputs, train_labels)\n",
    "        # Calculate gradients\n",
    "        train_loss.backward()\n",
    "        # Update Weights\n",
    "        optimizer.step()\n",
    "\n",
    "        # accumulate the training loss\n",
    "        running_loss += train_loss.item()\n",
    "\n",
    "        # calculate training accuracy\n",
    "        _, train_predicted = torch.max(train_outputs, 1) # _ contain max value, train_predicted contain the indices where maximum value occured\n",
    "        train_correct_predictions += (train_predicted == train_labels).sum().item() \n",
    "        total_train_samples += train_labels.size(0)\n",
    "            \n",
    "    train_total_loss = running_loss / len(concatenated_train_loader)\n",
    "    train_accuracy = train_correct_predictions / total_train_samples * 100\n",
    "    train_losses.append(train_total_loss)\n",
    "    train_accuracies.append(train_accuracy)\n",
    "\n",
    "    \n",
    "    #Validation\n",
    "    model.eval()\n",
    "    val_running_loss = 0.0\n",
    "    val_correct_prediction = 0\n",
    "    total_val_samples = 0\n",
    "    val_total_loss = 0.0\n",
    "    with torch.no_grad():\n",
    "        for val_images, val_labels in concatenated_val_loader:\n",
    "            val_images, val_labels = val_images.to(device), val_labels.to(device)\n",
    "            val_op = model(val_images)\n",
    "            val_loss = criterion(val_op, val_labels)\n",
    "            val_running_loss += val_loss.item()\n",
    "\n",
    "            _, val_predicted = torch.max(val_op, 1)\n",
    "            val_correct_prediction += (val_predicted == val_labels).sum().item()\n",
    "            total_val_samples += val_labels.size(0)\n",
    "        \n",
    "        val_total_loss = val_running_loss / len(concatenated_val_loader)\n",
    "        val_accuracy = val_correct_prediction / total_val_samples * 100\n",
    "        val_losses.append(val_total_loss)\n",
    "        val_accuracies.append(val_accuracy)\n",
    "\n",
    "    # Check if validation loss has improved\n",
    "    if val_total_loss < best_loss:\n",
    "        best_loss = val_total_loss\n",
    "        counter = 0\n",
    "        # Save the model if needed\n",
    "        # torch.save(model.state_dict(), 'best_model.pth')\n",
    "\n",
    "    else:\n",
    "        counter += 1\n",
    "\n",
    "        # Check if training should be stopped\n",
    "        if counter >= patience:\n",
    "            print(f'Early stopping at epoch {epoch}')\n",
    "            break\n",
    "\n",
    "\n",
    "    print(f'Epoch {epoch + 1}/{epochs}, Training Loss: {train_total_loss:.4f}, Training Accuracy: {train_accuracy:.2f}%, Validation Loss: {val_total_loss: .4f}, Best Loss: {best_loss: .4f}, Validation Accuracy: {val_accuracy:.2f}%')"
   ]
  },
  {
   "cell_type": "code",
   "execution_count": 16,
   "metadata": {},
   "outputs": [
    {
     "data": {
      "image/png": "[encoded data removed]",
      "text/plain": [
       "<Figure size 640x480 with 1 Axes>"
      ]
     },
     "metadata": {},
     "output_type": "display_data"
    }
   ],
   "source": [
    "import matplotlib.pyplot as plt\n",
    "\n",
    "plt.figure()\n",
    "plt.title(\"Training and Validation Loss\")\n",
    "plt.plot(train_losses,label=\"train\")\n",
    "plt.plot(val_losses,label=\"val\")\n",
    "plt.xlabel(\"Epochs\")\n",
    "plt.ylabel(\"Loss\")\n",
    "plt.yscale('log')\n",
    "# plt.grid(True)\n",
    "plt.legend()\n",
    "plt.show()"
   ]
  },
  {
   "cell_type": "code",
   "execution_count": 17,
   "metadata": {},
   "outputs": [
    {
     "data": {
      "image/png": "[encoded data removed]",
      "text/plain": [
       "<Figure size 640x480 with 1 Axes>"
      ]
     },
     "metadata": {},
     "output_type": "display_data"
    }
   ],
   "source": [
    "plt.figure()\n",
    "plt.title(\"Training and Validation Accuracies\")\n",
    "plt.plot(train_accuracies,label=\"Training Accuracy\")\n",
    "plt.plot(val_accuracies,label=\"Validation Accuracy\")\n",
    "plt.xlabel(\"Epochs\")\n",
    "plt.ylabel(\"Accuracy (%)\")\n",
    "plt.legend()\n",
    "plt.show()"
   ]
  },
  {
   "cell_type": "code",
   "execution_count": 18,
   "metadata": {},
   "outputs": [
    {
     "name": "stdout",
     "output_type": "stream",
     "text": [
      "Test Accuracy: 89.24%\n"
     ]
    }
   ],
   "source": [
    "# Evaluate on the test set\n",
    "test_correct = 0\n",
    "test_total = 0\n",
    "\n",
    "model.eval()\n",
    "with torch.no_grad():\n",
    "    \n",
    "    test_cat_labels = torch.empty(0, dtype=torch.int64, device=device)\n",
    "    test_predicted_cat_labels = torch.empty(0, dtype=torch.int64, device=device)\n",
    "\n",
    "    for test_images, test_labels in concatenated_test_loader:\n",
    "        test_images, test_labels = test_images.to(device), test_labels.to(device)\n",
    "        test_model_op = model(test_images)\n",
    "        _, test_predicted = torch.max(test_model_op, 1)\n",
    "        test_correct += (test_predicted == test_labels).sum().item() \n",
    "        test_total += test_labels.size(0)\n",
    "\n",
    "        test_cat_labels = torch.cat((test_cat_labels, test_labels))\n",
    "        test_predicted_cat_labels = torch.cat((test_predicted_cat_labels, test_predicted))\n",
    "\n",
    "    test_accuracy = test_correct / test_total * 100  \n",
    "    print(f'Test Accuracy: {test_accuracy:.2f}%')"
   ]
  },
  {
   "cell_type": "code",
   "execution_count": 19,
   "metadata": {},
   "outputs": [
    {
     "name": "stdout",
     "output_type": "stream",
     "text": [
      "tensor([0, 0, 0,  ..., 1, 1, 1], device='cuda:1')\n",
      "tensor([1, 0, 1,  ..., 1, 1, 1], device='cuda:1')\n"
     ]
    }
   ],
   "source": [
    "print(test_cat_labels)\n",
    "print(test_predicted_cat_labels)"
   ]
  },
  {
   "cell_type": "code",
   "execution_count": 20,
   "metadata": {},
   "outputs": [
    {
     "name": "stdout",
     "output_type": "stream",
     "text": [
      "tensor([0, 0, 0,  ..., 1, 1, 1])\n",
      "tensor([1, 0, 1,  ..., 1, 1, 1])\n"
     ]
    }
   ],
   "source": [
    "test_cat_labels_cpu = test_cat_labels.cpu()\n",
    "test_predicted_cat_labels_cpu = test_predicted_cat_labels.cpu()\n",
    "\n",
    "print(test_cat_labels_cpu)\n",
    "print(test_predicted_cat_labels_cpu)"
   ]
  },
  {
   "cell_type": "code",
   "execution_count": 21,
   "metadata": {},
   "outputs": [],
   "source": [
    "from sklearn.metrics import confusion_matrix, accuracy_score, precision_score, recall_score, f1_score, balanced_accuracy_score"
   ]
  },
  {
   "cell_type": "code",
   "execution_count": 22,
   "metadata": {},
   "outputs": [
    {
     "name": "stdout",
     "output_type": "stream",
     "text": [
      "TN: 362, FP: 87, FN: 101, TP: 1198\n",
      "Testing Results\n",
      "----------------------------------------------------------------------\n",
      "Acc: 0.8924485125858124 Prec: 0.932295719844358 Recall: 0.922247882986913 YI: 0.7284839631650866 Sen: 0.922247882986913 Spe: 0.8062360801781737 \n",
      " F1: 0.9272445820433437 HTER: 0.13575801841745663 EER: 0.10755148741418764 BACC: 0.8642419815825433\n"
     ]
    }
   ],
   "source": [
    "tn, fp, fn, tp = confusion_matrix(test_cat_labels_cpu, test_predicted_cat_labels_cpu).ravel()\n",
    "\n",
    "print(f'TN: {tn}, FP: {fp}, FN: {fn}, TP: {tp}')\n",
    "\n",
    "acc_score = accuracy_score(test_cat_labels_cpu, test_predicted_cat_labels_cpu)\n",
    "prec_score = precision_score(test_cat_labels_cpu, test_predicted_cat_labels_cpu)\n",
    "recall = recall_score(test_cat_labels_cpu, test_predicted_cat_labels_cpu)\n",
    "\n",
    "Y_I_val =(tp/(tp+fn)) + (tn/(tn+fp)) - 1\n",
    "sensitivity_val = tp / (tp + fn)\n",
    "specificity_val = tn / (tn + fp)\n",
    "f1score_val = 2 * tp / (2 * tp + fp + fn)\n",
    "FAR = fp/(fp + tn)\n",
    "FRR = fn/(fn + tp)\n",
    "HTER_val = (FAR + FRR)/2\n",
    "EER = (fp+fn)/(tn+fp+fn+tp)\n",
    "val_bacc = balanced_accuracy_score(test_cat_labels_cpu, test_predicted_cat_labels_cpu)\n",
    "\n",
    "\n",
    "print('Testing Results')\n",
    "print(70*'-')\n",
    "print('Acc:', acc_score, 'Prec:', prec_score, 'Recall:', recall, 'YI:', Y_I_val, 'Sen:', sensitivity_val, 'Spe:', specificity_val, '\\n F1:', f1score_val, 'HTER:', HTER_val, 'EER:', EER, 'BACC:', val_bacc)"
   ]
  }
 ],
 "metadata": {
  "kernelspec": {
   "display_name": "pt_fpad",
   "language": "python",
   "name": "python3"
  },
  "language_info": {
   "codemirror_mode": {
    "name": "ipython",
    "version": 3
   },
   "file_extension": ".py",
   "mimetype": "text/x-python",
   "name": "python",
   "nbconvert_exporter": "python",
   "pygments_lexer": "ipython3",
   "version": "3.10.4"
  }
 },
 "nbformat": 4,
 "nbformat_minor": 2
}
